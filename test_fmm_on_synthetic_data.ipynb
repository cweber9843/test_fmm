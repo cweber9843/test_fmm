{
 "cells": [
  {
   "cell_type": "markdown",
   "metadata": {},
   "source": [
    "This is an updated version of this file, with the suggestions done by cyang-kth already implemented. \n",
    "https://github.com/cyang-kth/fmm/issues/70"
   ]
  },
  {
   "cell_type": "markdown",
   "metadata": {},
   "source": [
    "# imports"
   ]
  },
  {
   "cell_type": "code",
   "execution_count": 1,
   "metadata": {},
   "outputs": [
    {
     "data": {
      "text/plain": [
       "<module 'myMatcher' from '/home/christianweber/python_GIT/test_fmm/test_fmm/myMatcher.py'>"
      ]
     },
     "execution_count": 1,
     "metadata": {},
     "output_type": "execute_result"
    }
   ],
   "source": [
    "from pylab import *\n",
    "import pandas as pd\n",
    "import geopandas as gpd\n",
    "import networkx as nx\n",
    "\n",
    "%config Completer.use_jedi = False \n",
    "# %matplotlib notebook\n",
    "%matplotlib inline\n",
    "\n",
    "import myMatcher as MM\n",
    "\n",
    "import importlib\n",
    "importlib.reload(MM)"
   ]
  },
  {
   "cell_type": "markdown",
   "metadata": {},
   "source": [
    "# collect some functions"
   ]
  },
  {
   "cell_type": "code",
   "execution_count": 2,
   "metadata": {},
   "outputs": [],
   "source": [
    "def mm_load(shp_):\n",
    "    importlib.reload(MM)\n",
    "    mm = MM.myMatcher(p_unx='./', p_nw='./', crs=4326)\n",
    "    mm.load_network(shp_ = shp_)\n",
    "    mm.load_data_shp(\"./data/syntetic_data_ANV_WGS84.shp\", id_='track_id')\n",
    "#     mm.load_data_shp(\"./data/syntetic_data_ANV_UTM.shp\")\n",
    "    mm.generate_lineString()\n",
    "    return mm\n",
    "\n",
    "def config_match_plot(mm, k=8, d=10, radius=20, factor=15, gps_error=50, with_params=False):\n",
    "    #config\n",
    "    if d>0:\n",
    "        mm.reduce_trajectory(d=d)\n",
    "        mm.wkt = mm.gdf_lineString.iloc[0].ls_ip.wkt\n",
    "    else:\n",
    "        mm.wkt = mm.gdf_lineString.iloc[0].geometry.wkt\n",
    "    mm.config_matcher(radius=radius, k=k, factor=factor, gps_error=gps_error, )\n",
    "    #match\n",
    "    mm.match_wkt()\n",
    "    #plot\n",
    "#     mm.plot(zoom_=True, with_params=with_params)    \n",
    "    return mm"
   ]
  },
  {
   "cell_type": "markdown",
   "metadata": {},
   "source": [
    "# directed vs not directed network"
   ]
  },
  {
   "cell_type": "code",
   "execution_count": 3,
   "metadata": {},
   "outputs": [],
   "source": [
    "# shp_directed = 'data/bike_centerline_v1_extract_ANVedges_source_target.shp'\n",
    "# shp_undirected = 'data/bike_centerline_v1_extract_ANVedges_source_target_rev.shp'\n",
    "# shp_undirected = 'data/bike_centerline_v1_extract_ANVedges_source_target_rev_renamed.shp'\n",
    "# shp_undirected = 'data/bike_stat_centerline_2_extract_ANV_miniedges_source_target_rev.shp'\n",
    "shp_undirected = 'data/bike_centerline_v1_extract_ANVedges_source_target_rev_renamed_mini_WGS84.shp'\n",
    "\n",
    "# shp_ = shp_directed\n",
    "shp_ = shp_undirected"
   ]
  },
  {
   "cell_type": "markdown",
   "metadata": {},
   "source": [
    "In an earlier version of this work, I only swapped source-target in the network shapefile, in order to generate the \"undirected\" network. This, however, does not affect the direction of the lineString itself, so STMATCH was trying to match an impossible network (and failed, naturally). <br>\n",
    "For reference, both networks are stored here, and we can observe the behavior by loading the directed (i.e. only one direction per lineString, but source-targed swapped) and the undirected network (source-target not swapped, but lineString direction reversed in the second half of the dataframe). "
   ]
  },
  {
   "cell_type": "markdown",
   "metadata": {},
   "source": [
    "# Network topology"
   ]
  },
  {
   "cell_type": "markdown",
   "metadata": {},
   "source": [
    "The network is bidirectional, as an example we look at one edge:"
   ]
  },
  {
   "cell_type": "code",
   "execution_count": 4,
   "metadata": {},
   "outputs": [],
   "source": [
    "# mm.gdf_nw.rename(columns={'id': 'id_singleSet', 'uid': 'id'}, inplace=True)"
   ]
  },
  {
   "cell_type": "code",
   "execution_count": 5,
   "metadata": {},
   "outputs": [],
   "source": [
    "# mm.gdf_nw.to_file(mm.p_nw + 'data/bike_centerline_v1_extract_ANVedges_source_target_rev_renamed.shp')"
   ]
  },
  {
   "cell_type": "code",
   "execution_count": 6,
   "metadata": {},
   "outputs": [
    {
     "name": "stdout",
     "output_type": "stream",
     "text": [
      "Loaded network: 28 nodes, 60 edges\n"
     ]
    },
    {
     "data": {
      "text/html": [
       "<div>\n",
       "<style scoped>\n",
       "    .dataframe tbody tr th:only-of-type {\n",
       "        vertical-align: middle;\n",
       "    }\n",
       "\n",
       "    .dataframe tbody tr th {\n",
       "        vertical-align: top;\n",
       "    }\n",
       "\n",
       "    .dataframe thead th {\n",
       "        text-align: right;\n",
       "    }\n",
       "</style>\n",
       "<table border=\"1\" class=\"dataframe\">\n",
       "  <thead>\n",
       "    <tr style=\"text-align: right;\">\n",
       "      <th></th>\n",
       "      <th>uid</th>\n",
       "      <th>Shape_Leng</th>\n",
       "      <th>id</th>\n",
       "      <th>slope</th>\n",
       "      <th>source</th>\n",
       "      <th>target</th>\n",
       "      <th>ShpName</th>\n",
       "      <th>cost</th>\n",
       "      <th>geometry</th>\n",
       "    </tr>\n",
       "  </thead>\n",
       "  <tbody>\n",
       "    <tr>\n",
       "      <th>3</th>\n",
       "      <td>3</td>\n",
       "      <td>15.397967</td>\n",
       "      <td>9008</td>\n",
       "      <td>0.064944</td>\n",
       "      <td>2</td>\n",
       "      <td>4</td>\n",
       "      <td>bike_stat_centerline_2_extract_ANV_mini</td>\n",
       "      <td>1</td>\n",
       "      <td>LINESTRING (10.86592 59.95544, 10.86589 59.955...</td>\n",
       "    </tr>\n",
       "    <tr>\n",
       "      <th>33</th>\n",
       "      <td>33</td>\n",
       "      <td>15.397967</td>\n",
       "      <td>9008</td>\n",
       "      <td>0.064944</td>\n",
       "      <td>2</td>\n",
       "      <td>4</td>\n",
       "      <td>bike_stat_centerline_2_extract_ANV_mini</td>\n",
       "      <td>1</td>\n",
       "      <td>LINESTRING (10.86566 59.95545, 10.86568 59.955...</td>\n",
       "    </tr>\n",
       "  </tbody>\n",
       "</table>\n",
       "</div>"
      ],
      "text/plain": [
       "    uid  Shape_Leng    id     slope  source  target  \\\n",
       "3     3   15.397967  9008  0.064944       2       4   \n",
       "33   33   15.397967  9008  0.064944       2       4   \n",
       "\n",
       "                                    ShpName  cost  \\\n",
       "3   bike_stat_centerline_2_extract_ANV_mini     1   \n",
       "33  bike_stat_centerline_2_extract_ANV_mini     1   \n",
       "\n",
       "                                             geometry  \n",
       "3   LINESTRING (10.86592 59.95544, 10.86589 59.955...  \n",
       "33  LINESTRING (10.86566 59.95545, 10.86568 59.955...  "
      ]
     },
     "execution_count": 6,
     "metadata": {},
     "output_type": "execute_result"
    }
   ],
   "source": [
    "mm = mm_load(shp_)\n",
    "mm.gdf_nw.loc[mm.gdf_nw.id == 9008]"
   ]
  },
  {
   "cell_type": "markdown",
   "metadata": {},
   "source": [
    "Note: for `shp_directed`, we see that source-target is swapped, but the geometry is the same lineString. For `shp_undirected`, source-target is identical, but each lineString is reversed. "
   ]
  },
  {
   "cell_type": "markdown",
   "metadata": {},
   "source": [
    "# test parameters"
   ]
  },
  {
   "cell_type": "markdown",
   "metadata": {},
   "source": [
    "So far, I don't get a perfect fit with the STMATCH algorithm. <br>As stated above, the network should be ok. (side question: how is the visualization (e.g. here: https://github.com/cyang-kth/fmm/issues/30) done? <br>\n",
    "__correction:__<br>\n",
    "The network was __not__ ok. Was missing true bidirectional links, as stated above. And the visualization in QGis is simply done by replacing the lines with arrows - QGis respects the \"direction\" of the line as the list of coordinates."
   ]
  },
  {
   "cell_type": "markdown",
   "metadata": {},
   "source": [
    "## test with WGS84"
   ]
  },
  {
   "cell_type": "code",
   "execution_count": 7,
   "metadata": {
    "hide_input": false
   },
   "outputs": [],
   "source": [
    "# #Parameters UTM\n",
    "# # d=0\n",
    "# k = 8\n",
    "# radius=20\n",
    "# gps_e = 50\n",
    "# vmax = 30\n",
    "# factor=15\n",
    "\n",
    "#Parameters WGS84\n",
    "# d=0\n",
    "k = 4\n",
    "radius=0.4\n",
    "gps_e = 0.5\n",
    "vmax = 30\n",
    "factor=15"
   ]
  },
  {
   "cell_type": "code",
   "execution_count": 8,
   "metadata": {},
   "outputs": [
    {
     "data": {
      "text/html": [
       "<div>\n",
       "<style scoped>\n",
       "    .dataframe tbody tr th:only-of-type {\n",
       "        vertical-align: middle;\n",
       "    }\n",
       "\n",
       "    .dataframe tbody tr th {\n",
       "        vertical-align: top;\n",
       "    }\n",
       "\n",
       "    .dataframe thead th {\n",
       "        text-align: right;\n",
       "    }\n",
       "</style>\n",
       "<table border=\"1\" class=\"dataframe\">\n",
       "  <thead>\n",
       "    <tr style=\"text-align: right;\">\n",
       "      <th></th>\n",
       "      <th>uid</th>\n",
       "      <th>Shape_Leng</th>\n",
       "      <th>id</th>\n",
       "      <th>slope</th>\n",
       "      <th>source</th>\n",
       "      <th>target</th>\n",
       "      <th>ShpName</th>\n",
       "      <th>cost</th>\n",
       "      <th>geometry</th>\n",
       "    </tr>\n",
       "  </thead>\n",
       "  <tbody>\n",
       "    <tr>\n",
       "      <th>0</th>\n",
       "      <td>0</td>\n",
       "      <td>90.068473</td>\n",
       "      <td>8296</td>\n",
       "      <td>0.022205</td>\n",
       "      <td>0</td>\n",
       "      <td>1</td>\n",
       "      <td>bike_stat_centerline_2_extract_ANV_mini</td>\n",
       "      <td>1</td>\n",
       "      <td>LINESTRING (10.86825 59.95613, 10.86821 59.956...</td>\n",
       "    </tr>\n",
       "    <tr>\n",
       "      <th>1</th>\n",
       "      <td>1</td>\n",
       "      <td>67.579317</td>\n",
       "      <td>8649</td>\n",
       "      <td>0.029595</td>\n",
       "      <td>1</td>\n",
       "      <td>2</td>\n",
       "      <td>bike_stat_centerline_2_extract_ANV_mini</td>\n",
       "      <td>1</td>\n",
       "      <td>LINESTRING (10.86703 59.95566, 10.86698 59.955...</td>\n",
       "    </tr>\n",
       "    <tr>\n",
       "      <th>2</th>\n",
       "      <td>2</td>\n",
       "      <td>13.847463</td>\n",
       "      <td>8650</td>\n",
       "      <td>0.000000</td>\n",
       "      <td>1</td>\n",
       "      <td>3</td>\n",
       "      <td>bike_stat_centerline_2_extract_ANV_mini</td>\n",
       "      <td>1</td>\n",
       "      <td>LINESTRING (10.86703 59.95566, 10.86703 59.955...</td>\n",
       "    </tr>\n",
       "    <tr>\n",
       "      <th>3</th>\n",
       "      <td>3</td>\n",
       "      <td>15.397967</td>\n",
       "      <td>9008</td>\n",
       "      <td>0.064944</td>\n",
       "      <td>2</td>\n",
       "      <td>4</td>\n",
       "      <td>bike_stat_centerline_2_extract_ANV_mini</td>\n",
       "      <td>1</td>\n",
       "      <td>LINESTRING (10.86592 59.95544, 10.86589 59.955...</td>\n",
       "    </tr>\n",
       "    <tr>\n",
       "      <th>4</th>\n",
       "      <td>4</td>\n",
       "      <td>87.319449</td>\n",
       "      <td>9009</td>\n",
       "      <td>0.103070</td>\n",
       "      <td>3</td>\n",
       "      <td>5</td>\n",
       "      <td>bike_stat_centerline_2_extract_ANV_mini</td>\n",
       "      <td>1</td>\n",
       "      <td>LINESTRING (10.86687 59.95575, 10.86686 59.955...</td>\n",
       "    </tr>\n",
       "  </tbody>\n",
       "</table>\n",
       "</div>"
      ],
      "text/plain": [
       "   uid  Shape_Leng    id     slope  source  target  \\\n",
       "0    0   90.068473  8296  0.022205       0       1   \n",
       "1    1   67.579317  8649  0.029595       1       2   \n",
       "2    2   13.847463  8650  0.000000       1       3   \n",
       "3    3   15.397967  9008  0.064944       2       4   \n",
       "4    4   87.319449  9009  0.103070       3       5   \n",
       "\n",
       "                                   ShpName  cost  \\\n",
       "0  bike_stat_centerline_2_extract_ANV_mini     1   \n",
       "1  bike_stat_centerline_2_extract_ANV_mini     1   \n",
       "2  bike_stat_centerline_2_extract_ANV_mini     1   \n",
       "3  bike_stat_centerline_2_extract_ANV_mini     1   \n",
       "4  bike_stat_centerline_2_extract_ANV_mini     1   \n",
       "\n",
       "                                            geometry  \n",
       "0  LINESTRING (10.86825 59.95613, 10.86821 59.956...  \n",
       "1  LINESTRING (10.86703 59.95566, 10.86698 59.955...  \n",
       "2  LINESTRING (10.86703 59.95566, 10.86703 59.955...  \n",
       "3  LINESTRING (10.86592 59.95544, 10.86589 59.955...  \n",
       "4  LINESTRING (10.86687 59.95575, 10.86686 59.955...  "
      ]
     },
     "execution_count": 8,
     "metadata": {},
     "output_type": "execute_result"
    }
   ],
   "source": [
    "mm.gdf_nw.head()"
   ]
  },
  {
   "cell_type": "code",
   "execution_count": 9,
   "metadata": {},
   "outputs": [
    {
     "data": {
      "text/html": [
       "<div>\n",
       "<style scoped>\n",
       "    .dataframe tbody tr th:only-of-type {\n",
       "        vertical-align: middle;\n",
       "    }\n",
       "\n",
       "    .dataframe tbody tr th {\n",
       "        vertical-align: top;\n",
       "    }\n",
       "\n",
       "    .dataframe thead th {\n",
       "        text-align: right;\n",
       "    }\n",
       "</style>\n",
       "<table border=\"1\" class=\"dataframe\">\n",
       "  <thead>\n",
       "    <tr style=\"text-align: right;\">\n",
       "      <th></th>\n",
       "      <th>id</th>\n",
       "      <th>geometry</th>\n",
       "      <th>wkt</th>\n",
       "      <th>ls_ip</th>\n",
       "    </tr>\n",
       "  </thead>\n",
       "  <tbody>\n",
       "    <tr>\n",
       "      <th>0</th>\n",
       "      <td>123</td>\n",
       "      <td>LINESTRING (10.86311 59.95676, 10.86335 59.956...</td>\n",
       "      <td>LINESTRING (10.8631110194893470 59.95676254309...</td>\n",
       "      <td>None</td>\n",
       "    </tr>\n",
       "  </tbody>\n",
       "</table>\n",
       "</div>"
      ],
      "text/plain": [
       "    id                                           geometry  \\\n",
       "0  123  LINESTRING (10.86311 59.95676, 10.86335 59.956...   \n",
       "\n",
       "                                                 wkt ls_ip  \n",
       "0  LINESTRING (10.8631110194893470 59.95676254309...  None  "
      ]
     },
     "execution_count": 9,
     "metadata": {},
     "output_type": "execute_result"
    }
   ],
   "source": [
    "mm.gdf_lineString"
   ]
  },
  {
   "cell_type": "code",
   "execution_count": 10,
   "metadata": {},
   "outputs": [
    {
     "name": "stdout",
     "output_type": "stream",
     "text": [
      "Loaded network: 28 nodes, 60 edges\n"
     ]
    }
   ],
   "source": [
    "mm = mm_load(shp_)\n",
    "for i in [0]:\n",
    "    mm = config_match_plot(mm, d=i, radius=radius, factor=factor, with_params=True) "
   ]
  },
  {
   "cell_type": "code",
   "execution_count": 11,
   "metadata": {},
   "outputs": [
    {
     "name": "stdout",
     "output_type": "stream",
     "text": [
      "Matched path:  []\n",
      "Matched edge for each point:  [12149, 12149, 10902, 10902, 10902, 10902, 10902, 10902, 10122, 10122, 10122, 10122, 9765, 9765, 9765, 9009, 9009, 9380, 9764, 9009, 9009, 9009, 9009, 9009, 8650, 9009]\n",
      "Matched edge index  []\n",
      "Matched geometry:  LINESTRING()\n",
      "Matched point  LINESTRING(10.863 59.9566,10.8633 59.9565,10.8637 59.9564,10.864 59.9564,10.8643 59.9565,10.8643 59.9565,10.8644 59.9565,10.8645 59.9565,10.8647 59.9565,10.8647 59.9565,10.8648 59.9565,10.8649 59.9565,10.8652 59.9565,10.8652 59.9565,10.8656 59.9564,10.8658 59.9562,10.8658 59.9562,10.8657 59.9563,10.8657 59.9564,10.8661 59.9561,10.8661 59.9561,10.8661 59.9561,10.8663 59.956,10.8665 59.9559,10.8669 59.9558,10.8667 59.9559)\n"
     ]
    }
   ],
   "source": [
    "print (\"Matched path: \", list(mm.result.cpath))\n",
    "print (\"Matched edge for each point: \", list(mm.result.opath))\n",
    "print (\"Matched edge index \",list(mm.result.indices))\n",
    "print (\"Matched geometry: \",mm.result.mgeom.export_wkt())\n",
    "print (\"Matched point \", mm.result.pgeom.export_wkt())"
   ]
  },
  {
   "cell_type": "markdown",
   "metadata": {},
   "source": [
    "## interpolation"
   ]
  },
  {
   "cell_type": "code",
   "execution_count": null,
   "metadata": {
    "hide_input": false
   },
   "outputs": [],
   "source": [
    "# #Parameters UTM\n",
    "# # d=0\n",
    "# k = 8\n",
    "# radius=20\n",
    "# gps_e = 50\n",
    "# vmax = 30\n",
    "# factor=15\n",
    "\n",
    "#Parameters WGS84\n",
    "# d=0\n",
    "k = 4\n",
    "radius=0.4\n",
    "gps_e = 0.5\n",
    "vmax = 30\n",
    "factor=15"
   ]
  },
  {
   "cell_type": "markdown",
   "metadata": {},
   "source": [
    "Vary the interpolation distance:"
   ]
  },
  {
   "cell_type": "code",
   "execution_count": null,
   "metadata": {},
   "outputs": [],
   "source": [
    "mm = mm_load(shp_)\n",
    "for i in [1, 10, 50, 100]:\n",
    "    mm = config_match_plot(mm, d=i, radius=radius, factor=factor, with_params=True) "
   ]
  },
  {
   "cell_type": "markdown",
   "metadata": {},
   "source": [
    "- Variation of the interpolation distance leads to missing links in the resulting track - __why?__\n",
    "- All matches include reverse movements.\n",
    "- The original data is matched best, but with reverse movements. "
   ]
  },
  {
   "cell_type": "markdown",
   "metadata": {},
   "source": [
    "## radius"
   ]
  },
  {
   "cell_type": "code",
   "execution_count": null,
   "metadata": {
    "hide_input": false
   },
   "outputs": [],
   "source": [
    "d=0\n",
    "k = 8\n",
    "# radius=20\n",
    "gps_e = 50\n",
    "vmax = 30\n",
    "factor=15"
   ]
  },
  {
   "cell_type": "markdown",
   "metadata": {},
   "source": [
    "Vary the radius distance:"
   ]
  },
  {
   "cell_type": "code",
   "execution_count": null,
   "metadata": {},
   "outputs": [],
   "source": [
    "mm = mm_load(shp_)\n",
    "for i in [10, 30, 60, 100, 200]:\n",
    "    mm = config_match_plot(mm, d=d, radius=i, factor=factor, with_params=True) "
   ]
  },
  {
   "cell_type": "markdown",
   "metadata": {},
   "source": [
    "- If the radius is too small, no match is found (r=10)\n",
    "- A radius of 30 matches these data well, but creates one reverse movement (r=30)\n",
    "- All larger radii result in missing links - __why?__ (r>30)"
   ]
  },
  {
   "cell_type": "markdown",
   "metadata": {},
   "source": [
    "## gps error"
   ]
  },
  {
   "cell_type": "code",
   "execution_count": null,
   "metadata": {
    "hide_input": false
   },
   "outputs": [],
   "source": [
    "d=0\n",
    "k = 8\n",
    "radius=20\n",
    "# gps_e = 50\n",
    "vmax = 30\n",
    "factor=15"
   ]
  },
  {
   "cell_type": "markdown",
   "metadata": {},
   "source": [
    "Vary the interpolation distance:"
   ]
  },
  {
   "cell_type": "code",
   "execution_count": null,
   "metadata": {},
   "outputs": [],
   "source": [
    "mm = mm_load(shp_)\n",
    "for i in [5, 10, 50, 100]:\n",
    "    mm = config_match_plot(mm, d=d, radius=radius, gps_error=i, with_params=True) "
   ]
  },
  {
   "cell_type": "markdown",
   "metadata": {},
   "source": [
    "- missing links for small gps errors (gps_e < 50)\n",
    "- reverse movements in all cases"
   ]
  },
  {
   "cell_type": "markdown",
   "metadata": {},
   "source": [
    "## factor"
   ]
  },
  {
   "cell_type": "code",
   "execution_count": null,
   "metadata": {
    "hide_input": false
   },
   "outputs": [],
   "source": [
    "d=0\n",
    "k = 8\n",
    "radius=20\n",
    "gps_e = 50\n",
    "vmax = 30\n",
    "# factor=15"
   ]
  },
  {
   "cell_type": "markdown",
   "metadata": {},
   "source": [
    "Vary the factor:"
   ]
  },
  {
   "cell_type": "code",
   "execution_count": null,
   "metadata": {},
   "outputs": [],
   "source": [
    "mm = mm_load(shp_)\n",
    "for i in [0.5, 1.5, 10, 50, 100]:\n",
    "    mm = config_match_plot(mm, d=d, radius=radius, factor=i, with_params=True) "
   ]
  },
  {
   "cell_type": "markdown",
   "metadata": {},
   "source": [
    "- The factor seems to have little influence in this example. All factors f > 0.5 result in connected matches\n",
    "- reverse movement in all cases"
   ]
  },
  {
   "cell_type": "markdown",
   "metadata": {},
   "source": [
    "## k"
   ]
  },
  {
   "cell_type": "code",
   "execution_count": null,
   "metadata": {
    "hide_input": false
   },
   "outputs": [],
   "source": [
    "d=0\n",
    "# k = 8\n",
    "radius=20\n",
    "gps_e = 50\n",
    "vmax = 30\n",
    "factor=15"
   ]
  },
  {
   "cell_type": "markdown",
   "metadata": {},
   "source": [
    "Vary the number of candidates:"
   ]
  },
  {
   "cell_type": "code",
   "execution_count": null,
   "metadata": {},
   "outputs": [],
   "source": [
    "mm = mm_load(shp_)\n",
    "for i in [1, 2, 5, 10, 100]:\n",
    "    mm = config_match_plot(mm, k=i, d=d, radius=radius, factor=factor, with_params=True) "
   ]
  },
  {
   "cell_type": "markdown",
   "metadata": {},
   "source": [
    "- k <= 2 results in non-connected match\n",
    "- k >= 5: connected matches with reverse movement\n",
    "- k = 5 leads to the most links with reverse movement. "
   ]
  },
  {
   "cell_type": "markdown",
   "metadata": {},
   "source": [
    "# Questions"
   ]
  },
  {
   "cell_type": "markdown",
   "metadata": {},
   "source": [
    "- What is the best way to tune the parameters? \n",
    "- Maybe build a minimizer around them? Some kind of gradient search?\n",
    "- How can the reverse movements be avoided? -> use undirected network!\n",
    "- Is there any paper available for the STMATCH algorithm? \n",
    "- In the FMM-paper, a penalty is mentioned for avoiding reverse movement. Is this still implemented? \n",
    "- Will FMM with a precalculated UBODT file give better results? \n",
    "\n",
    "are answered by cyang-kth here: https://github.com/cyang-kth/fmm/issues/70"
   ]
  },
  {
   "cell_type": "code",
   "execution_count": null,
   "metadata": {},
   "outputs": [],
   "source": []
  }
 ],
 "metadata": {
  "kernelspec": {
   "display_name": "Python 3",
   "language": "python",
   "name": "python3"
  },
  "language_info": {
   "codemirror_mode": {
    "name": "ipython",
    "version": 3
   },
   "file_extension": ".py",
   "mimetype": "text/x-python",
   "name": "python",
   "nbconvert_exporter": "python",
   "pygments_lexer": "ipython3",
   "version": "3.8.2"
  },
  "toc": {
   "base_numbering": 1,
   "nav_menu": {},
   "number_sections": true,
   "sideBar": true,
   "skip_h1_title": false,
   "title_cell": "Table of Contents",
   "title_sidebar": "Contents",
   "toc_cell": false,
   "toc_position": {},
   "toc_section_display": true,
   "toc_window_display": true
  }
 },
 "nbformat": 4,
 "nbformat_minor": 4
}
